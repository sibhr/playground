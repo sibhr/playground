{
 "cells": [
  {
   "cell_type": "code",
   "execution_count": null,
   "metadata": {},
   "outputs": [],
   "source": [
    "%pylab inline\n",
    "# Fix autocomplete bug https://github.com/jupyter/notebook/issues/2435#issuecomment-445282159\n",
    "%config IPCompleter.use_jedi=False \n",
    "#from IPython.display import display\n",
    "from PIL import Image\n",
    "from io import BytesIO\n",
    "import requests"
   ]
  },
  {
   "cell_type": "code",
   "execution_count": null,
   "metadata": {},
   "outputs": [],
   "source": [
    "from dask.distributed import Client, progress, as_completed, Variable\n",
    "client = Client()\n",
    "client"
   ]
  },
  {
   "cell_type": "code",
   "execution_count": null,
   "metadata": {},
   "outputs": [],
   "source": [
    "# Send global variable to cluster\n",
    "# https://docs.dask.org/en/latest/futures.html#global-variables\n",
    "url = Variable(\"download-url\")\n",
    "url.set(\"https://picsum.photos/200/200/?random\")\n",
    "\n",
    "\n",
    "def download(i):\n",
    "    url = Variable(\"download-url\")\n",
    "    i = BytesIO(requests.get(url.get()).content)\n",
    "    return i\n",
    "\n",
    "futures = client.map(download, [0,1,2,3,4])\n",
    "out = []\n",
    "for future, result in as_completed(futures, with_results=True):\n",
    "    print(\"- Image downloaded...\")\n",
    "    out.append(result)\n"
   ]
  },
  {
   "cell_type": "code",
   "execution_count": null,
   "metadata": {},
   "outputs": [],
   "source": [
    "i = Image.open(out[0])\n",
    "type(0)\n",
    "imshow(Image.open(out[0]))"
   ]
  },
  {
   "cell_type": "code",
   "execution_count": null,
   "metadata": {},
   "outputs": [],
   "source": []
  }
 ],
 "metadata": {
  "kernelspec": {
   "display_name": "Python 3",
   "language": "python",
   "name": "python3"
  },
  "language_info": {
   "codemirror_mode": {
    "name": "ipython",
    "version": 3
   },
   "file_extension": ".py",
   "mimetype": "text/x-python",
   "name": "python",
   "nbconvert_exporter": "python",
   "pygments_lexer": "ipython3",
   "version": "3.6.6"
  }
 },
 "nbformat": 4,
 "nbformat_minor": 2
}
