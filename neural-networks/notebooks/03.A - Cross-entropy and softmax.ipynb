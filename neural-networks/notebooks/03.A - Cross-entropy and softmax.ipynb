{
 "cells": [
  {
   "cell_type": "markdown",
   "metadata": {},
   "source": [
    "## Cross-entropy cost function \n",
    "\n",
    "Cross-entropy cost function for a single neuron\n",
    "\n",
    "$\\begin{eqnarray} \n",
    "  C = -\\frac{1}{n} \\sum_x \\left[y \\ln a + (1-y ) \\ln (1-a) \\right],\n",
    "\\tag{57}\\end{eqnarray}$\n",
    "\n",
    "After some calculus <http://neuralnetworksanddeeplearning.com/chap3.html#introducing_the_cross-entropy_cost_function>\n",
    "\n",
    "$\\begin{eqnarray} \n",
    "  \\frac{\\partial C}{\\partial w_j} =  \\frac{1}{n} \\sum_x x_j(\\sigma(z)-y)\n",
    "\\tag{61}\\end{eqnarray}$\n",
    "\n",
    "and\n",
    "\n",
    "$\\begin{eqnarray} \n",
    "  \\frac{\\partial C}{\\partial b} = \\frac{1}{n} \\sum_x (\\sigma(z)-y)\n",
    "\\tag{62}\\end{eqnarray}$\n",
    "\n",
    "Since $\\sigma'(z)$ is not present in (61) and (62) cross-entropy is not sensible to \"learn slowly\" effect\n",
    "\n",
    "Roughly speaking, the idea is that the cross-entropy is a measure of surprise. Suppose we think of a as our neuron's estimated probability that y is 1, and 1−a is the estimated probability that the right value for y is 0. Then the cross-entropy measures how \"surprised\" we are, on average, when we learn the true value for y. <http://neuralnetworksanddeeplearning.com/chap3.html#what_does_the_cross-entropy_mean_where_does_it_come_from>\n",
    "\n",
    "Cross-entropy for multiple neurons\n",
    "\n",
    "$\\begin{eqnarray}  C = -\\frac{1}{n} \\sum_x\n",
    "  \\sum_j \\left[y_j \\ln a^L_j + (1-y_j) \\ln (1-a^L_j) \\right].\n",
    "\\tag{63}\\end{eqnarray}$"
   ]
  },
  {
   "cell_type": "markdown",
   "metadata": {},
   "source": [
    "## Softmax \n",
    "\n",
    "<http://neuralnetworksanddeeplearning.com/chap3.html#softmax>\n",
    "\n",
    "Softmax is another type of output layer\n",
    "\n",
    "Weigted inputs \n",
    "\n",
    "$z^L_j = \\sum_{k} w^L_{jk} a^{L-1}_k + b^L_j\\tag{}$\n",
    "\n",
    "**softmax function** Activation for jth output \n",
    "\n",
    "$a^L_j = \\frac{e^{z^L_j}}{\\sum_k e^{z^L_k}}\\tag{78}$\n",
    "\n",
    "softmax always sum up to 1\n",
    "\n",
    "$\\begin{eqnarray}\n",
    "  \\sum_j a^L_j & = & \\frac{\\sum_j e^{z^L_j}}{\\sum_k e^{z^L_k}} = 1.\n",
    "\\tag{79}\\end{eqnarray}$\n",
    "\n",
    "output activations are all positive, since the exponential function is positive\n",
    "\n",
    "the output from the softmax layer can be thought of as a probability distribution\n",
    "\n",
    "Math background on probability <http://www.deeplearningbook.org/contents/prob.html>\n",
    "\n",
    "## log-likelihood cost function\n",
    "\n",
    "log-likelihood cost function \n",
    "\n",
    "$\\begin{eqnarray}\n",
    "  C \\equiv -\\ln a^L_y.\n",
    "\\tag{80}\\end{eqnarray}$\n",
    "\n",
    "Compute\n",
    "\n",
    "$\\begin{eqnarray}\n",
    "  \\frac{\\partial C}{\\partial b^L_j} & = & a^L_j-y_j  \\tag{81}\\\\\n",
    "  \\frac{\\partial C}{\\partial w^L_{jk}} & = & a^{L-1}_k (a^L_j-y_j) \n",
    "\\tag{82}\\end{eqnarray}$\n",
    "\n",
    "These equations are the same as the analogous expressions obtained with cross-entropy cost function.\n",
    "\n",
    "These expressions ensure that **log-likelihood cost function is not dubject to learning slowdown**\n",
    "\n",
    "Softmax layer with log-likelihood cost function can be useful with classification problems (like MNIST) involving disjoint classes."
   ]
  },
  {
   "cell_type": "code",
   "execution_count": null,
   "metadata": {},
   "outputs": [],
   "source": []
  }
 ],
 "metadata": {
  "kernelspec": {
   "display_name": "Python 3",
   "language": "python",
   "name": "python3"
  },
  "language_info": {
   "codemirror_mode": {
    "name": "ipython",
    "version": 3
   },
   "file_extension": ".py",
   "mimetype": "text/x-python",
   "name": "python",
   "nbconvert_exporter": "python",
   "pygments_lexer": "ipython3",
   "version": "3.6.4"
  }
 },
 "nbformat": 4,
 "nbformat_minor": 2
}
