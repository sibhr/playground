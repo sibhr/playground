{
 "cells": [
  {
   "cell_type": "markdown",
   "metadata": {},
   "source": [
    "# Network MNIST\n",
    "\n",
    "<http://neuralnetworksanddeeplearning.com/chap1.html#implementing_our_network_to_classify_digits>\n",
    "\n",
    "A program that learns how to recognize handwritten digits, using stochastic gradient descent and the MNIST training data\n",
    "\n",
    "Python3 code from <https://github.com/MichalDanielDobrzanski/DeepLearningPython35>"
   ]
  },
  {
   "cell_type": "code",
   "execution_count": 20,
   "metadata": {},
   "outputs": [
    {
     "name": "stdout",
     "output_type": "stream",
     "text": [
      "Once deleted, variables cannot be recovered. Proceed (y/[n])? y\n"
     ]
    }
   ],
   "source": [
    "# Reset and load python functions\n",
    "%reset\n",
    "%run python/download_data.py\n",
    "%run python/mnist_loader.py"
   ]
  },
  {
   "cell_type": "code",
   "execution_count": 17,
   "metadata": {},
   "outputs": [],
   "source": [
    "# Load data\n",
    "training_data, validation_data, test_data = load_data_wrapper()\n",
    "tr_data = list(training_data)"
   ]
  },
  {
   "cell_type": "code",
   "execution_count": 18,
   "metadata": {},
   "outputs": [
    {
     "data": {
      "text/plain": [
       "array([[1.],\n",
       "       [0.],\n",
       "       [0.],\n",
       "       [0.],\n",
       "       [0.],\n",
       "       [0.],\n",
       "       [0.],\n",
       "       [0.],\n",
       "       [0.],\n",
       "       [0.]])"
      ]
     },
     "execution_count": 18,
     "metadata": {},
     "output_type": "execute_result"
    },
    {
     "data": {
      "image/png": "[encoded data removed]",
      "text/plain": [
       "<Figure size 432x288 with 1 Axes>"
      ]
     },
     "metadata": {
      "image/png": {
       "height": 250,
       "width": 253
      }
     },
     "output_type": "display_data"
    }
   ],
   "source": [
    "# Display dataset\n",
    "from IPython.display import set_matplotlib_formats\n",
    "set_matplotlib_formats('retina')\n",
    "from matplotlib import pyplot as plt\n",
    "\n",
    "img1, lab1 = tr_data[1]\n",
    "plt.imshow(\n",
    "    (1 - img1).reshape(28, 28), cmap='gray')\n",
    "# Label is expected nn output layer \n",
    "lab1"
   ]
  },
  {
   "cell_type": "code",
   "execution_count": 21,
   "metadata": {},
   "outputs": [
    {
     "name": "stdout",
     "output_type": "stream",
     "text": [
      "Epoch 0 : 9037 / 10000\n",
      "Epoch 1 : 9234 / 10000\n",
      "Epoch 2 : 9280 / 10000\n",
      "Epoch 3 : 9360 / 10000\n",
      "Epoch 4 : 9338 / 10000\n",
      "Epoch 5 : 9379 / 10000\n",
      "Epoch 6 : 9386 / 10000\n",
      "Epoch 7 : 9411 / 10000\n",
      "Epoch 8 : 9427 / 10000\n",
      "Epoch 9 : 9423 / 10000\n",
      "Epoch 10 : 9437 / 10000\n",
      "Epoch 11 : 9427 / 10000\n",
      "Epoch 12 : 9446 / 10000\n",
      "Epoch 13 : 9446 / 10000\n",
      "Epoch 14 : 9452 / 10000\n",
      "Epoch 15 : 9476 / 10000\n",
      "Epoch 16 : 9474 / 10000\n",
      "Epoch 17 : 9486 / 10000\n",
      "Epoch 18 : 9471 / 10000\n",
      "Epoch 19 : 9478 / 10000\n",
      "Epoch 20 : 9466 / 10000\n",
      "Epoch 21 : 9472 / 10000\n",
      "Epoch 22 : 9502 / 10000\n",
      "Epoch 23 : 9476 / 10000\n",
      "Epoch 24 : 9487 / 10000\n",
      "Epoch 25 : 9480 / 10000\n",
      "Epoch 26 : 9490 / 10000\n",
      "Epoch 27 : 9464 / 10000\n",
      "Epoch 28 : 9485 / 10000\n",
      "Epoch 29 : 9481 / 10000\n"
     ]
    }
   ],
   "source": [
    "%run python/network.py\n",
    "# Load data\n",
    "training_data, validation_data, test_data = load_data_wrapper()\n",
    "# Create network with:\n",
    "# 784 input layer\n",
    "# 30 hidden layer\n",
    "# 10 output layer (0...1 number!)\n",
    "net = Network([784, 30, 10])\n",
    "# Use stochastic gradient descent to learn from the MNIST training_data \n",
    "# Hyper-parameters:\n",
    "epochs = 30\n",
    "batch_size = 10\n",
    "learning = 3.0\n",
    "net.SGD(training_data, epochs, batch_size, learning, test_data=test_data)"
   ]
  },
  {
   "cell_type": "markdown",
   "metadata": {},
   "source": [
    "# Mnist with cross-entropy cost \n",
    "\n",
    "From chapter 3 <http://neuralnetworksanddeeplearning.com/chap3.html#using_the_cross-entropy_to_classify_mnist_digits>"
   ]
  },
  {
   "cell_type": "code",
   "execution_count": 25,
   "metadata": {},
   "outputs": [
    {
     "name": "stdout",
     "output_type": "stream",
     "text": [
      "Epoch 0 training complete\n",
      "Accuracy on evaluation data: 9176 / 10000\n",
      "Epoch 1 training complete\n",
      "Accuracy on evaluation data: 9265 / 10000\n",
      "Epoch 2 training complete\n",
      "Accuracy on evaluation data: 9353 / 10000\n",
      "Epoch 3 training complete\n",
      "Accuracy on evaluation data: 9393 / 10000\n",
      "Epoch 4 training complete\n",
      "Accuracy on evaluation data: 9391 / 10000\n",
      "Epoch 5 training complete\n",
      "Accuracy on evaluation data: 9392 / 10000\n",
      "Epoch 6 training complete\n",
      "Accuracy on evaluation data: 9445 / 10000\n",
      "Epoch 7 training complete\n",
      "Accuracy on evaluation data: 9476 / 10000\n",
      "Epoch 8 training complete\n",
      "Accuracy on evaluation data: 9493 / 10000\n",
      "Epoch 9 training complete\n",
      "Accuracy on evaluation data: 9467 / 10000\n",
      "Epoch 10 training complete\n",
      "Accuracy on evaluation data: 9491 / 10000\n",
      "Epoch 11 training complete\n",
      "Accuracy on evaluation data: 9496 / 10000\n",
      "Epoch 12 training complete\n",
      "Accuracy on evaluation data: 9487 / 10000\n",
      "Epoch 13 training complete\n",
      "Accuracy on evaluation data: 9470 / 10000\n",
      "Epoch 14 training complete\n",
      "Accuracy on evaluation data: 9488 / 10000\n",
      "Epoch 15 training complete\n",
      "Accuracy on evaluation data: 9499 / 10000\n",
      "Epoch 16 training complete\n",
      "Accuracy on evaluation data: 9496 / 10000\n",
      "Epoch 17 training complete\n",
      "Accuracy on evaluation data: 9533 / 10000\n",
      "Epoch 18 training complete\n",
      "Accuracy on evaluation data: 9487 / 10000\n",
      "Epoch 19 training complete\n",
      "Accuracy on evaluation data: 9509 / 10000\n",
      "Epoch 20 training complete\n",
      "Accuracy on evaluation data: 9511 / 10000\n",
      "Epoch 21 training complete\n",
      "Accuracy on evaluation data: 9511 / 10000\n",
      "Epoch 22 training complete\n",
      "Accuracy on evaluation data: 9510 / 10000\n",
      "Epoch 23 training complete\n",
      "Accuracy on evaluation data: 9513 / 10000\n",
      "Epoch 24 training complete\n",
      "Accuracy on evaluation data: 9538 / 10000\n",
      "Epoch 25 training complete\n",
      "Accuracy on evaluation data: 9532 / 10000\n",
      "Epoch 26 training complete\n",
      "Accuracy on evaluation data: 9527 / 10000\n",
      "Epoch 27 training complete\n",
      "Accuracy on evaluation data: 9518 / 10000\n",
      "Epoch 28 training complete\n",
      "Accuracy on evaluation data: 9497 / 10000\n",
      "Epoch 29 training complete\n",
      "Accuracy on evaluation data: 9520 / 10000\n"
     ]
    },
    {
     "data": {
      "text/plain": [
       "([],\n",
       " [9176,\n",
       "  9265,\n",
       "  9353,\n",
       "  9393,\n",
       "  9391,\n",
       "  9392,\n",
       "  9445,\n",
       "  9476,\n",
       "  9493,\n",
       "  9467,\n",
       "  9491,\n",
       "  9496,\n",
       "  9487,\n",
       "  9470,\n",
       "  9488,\n",
       "  9499,\n",
       "  9496,\n",
       "  9533,\n",
       "  9487,\n",
       "  9509,\n",
       "  9511,\n",
       "  9511,\n",
       "  9510,\n",
       "  9513,\n",
       "  9538,\n",
       "  9532,\n",
       "  9527,\n",
       "  9518,\n",
       "  9497,\n",
       "  9520],\n",
       " [],\n",
       " [])"
      ]
     },
     "execution_count": 25,
     "metadata": {},
     "output_type": "execute_result"
    }
   ],
   "source": [
    "%run python/network2.py\n",
    "training_data, validation_data, test_data = load_data_wrapper()\n",
    "net = Network([784, 30, 10], cost=CrossEntropyCost)\n",
    "net.large_weight_initializer()\n",
    "net.SGD(training_data, 30, 10, 0.5, evaluation_data=test_data, monitor_evaluation_accuracy=True)"
   ]
  },
  {
   "cell_type": "code",
   "execution_count": null,
   "metadata": {},
   "outputs": [],
   "source": []
  }
 ],
 "metadata": {
  "kernelspec": {
   "display_name": "Python 3",
   "language": "python",
   "name": "python3"
  },
  "language_info": {
   "codemirror_mode": {
    "name": "ipython",
    "version": 3
   },
   "file_extension": ".py",
   "mimetype": "text/x-python",
   "name": "python",
   "nbconvert_exporter": "python",
   "pygments_lexer": "ipython3",
   "version": "3.6.4"
  }
 },
 "nbformat": 4,
 "nbformat_minor": 2
}
