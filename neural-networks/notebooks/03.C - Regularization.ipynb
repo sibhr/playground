{
 "cells": [
  {
   "cell_type": "markdown",
   "metadata": {},
   "source": [
    "# Regularization\n",
    "\n",
    "Reference <http://neuralnetworksanddeeplearning.com/chap3.html#regularization>\n",
    "\n",
    "Regularization is a techniques which can reduce overfitting\n",
    "\n",
    "I describe one of the most commonly used regularization techniques, a technique sometimes known as weight decay or L2 regularization. \n",
    "\n",
    "The idea of _weight decay_ or _L2 regularization_ is to add an extra term to the cost function, a term called the regularization term. Here's the regularized \n",
    "\n",
    "$\\begin{eqnarray}  C = C_0 + \\frac{\\lambda}{2n}\n",
    "\\sum_w w^2,\n",
    "\\tag{87}\\end{eqnarray}$\n",
    "\n",
    "cross-entropy regularized:\n",
    "\n",
    "$\\begin{eqnarray} C = -\\frac{1}{n} \\sum_{xj} \\left[ y_j \\ln a^L_j+(1-y_j) \\ln\n",
    "(1-a^L_j)\\right] + \\frac{\\lambda}{2n} \\sum_w w^2.\n",
    "\\tag{85}\\end{eqnarray}$\n",
    "\n",
    "Quadratic cost regularized:\n",
    "\n",
    "$C = \\frac{1}{2n} \\sum_x \\|y-a^L\\|^2 +\n",
    "  \\frac{\\lambda}{2n} \\sum_w w^2.\n",
    "\\tag{86}$\n",
    "\n",
    "\n"
   ]
  },
  {
   "cell_type": "code",
   "execution_count": null,
   "metadata": {},
   "outputs": [],
   "source": []
  }
 ],
 "metadata": {
  "kernelspec": {
   "display_name": "Python 3",
   "language": "python",
   "name": "python3"
  },
  "language_info": {
   "codemirror_mode": {
    "name": "ipython",
    "version": 3
   },
   "file_extension": ".py",
   "mimetype": "text/x-python",
   "name": "python",
   "nbconvert_exporter": "python",
   "pygments_lexer": "ipython3",
   "version": "3.6.4"
  }
 },
 "nbformat": 4,
 "nbformat_minor": 2
}
